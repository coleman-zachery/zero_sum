{
 "cells": [
  {
   "cell_type": "code",
   "execution_count": null,
   "id": "cc026199",
   "metadata": {},
   "outputs": [],
   "source": [
    "def new_bit_board(rows=6, cols=7, sequence=4, gravity=True, turn=0):\n",
    "    rows_b = (rows & 15) << 0 # 4 bits\n",
    "    cols_b = (cols & 15) << 4 # 4 bits\n",
    "    sequence_b = (sequence & 15) << 8 # 4 bits\n",
    "    gravity_b = (gravity & 1) << 12 # 1 bit\n",
    "    turn_b = (turn & 1) << 13 # 1 bit\n",
    "    return rows_b | cols_b | sequence_b | gravity_b | turn_b\n",
    "\n",
    "def get_sub_bits(bits, n_bits, start):\n",
    "    return (bits & (((1 << n_bits) - 1) << start)) >> start\n",
    "\n",
    "def get_rows(bit_board): return get_sub_bits(bit_board, 4, 0)\n",
    "def get_cols(bit_board): return get_sub_bits(bit_board, 4, 4)\n",
    "def get_win_con(bit_board): return get_sub_bits(bit_board, 4, 8)\n",
    "def get_gravity(bit_board): return get_sub_bits(bit_board, 1, 12)\n",
    "def get_turn(bit_board): return get_sub_bits(bit_board, 1, 13)\n",
    "def get_board(bit_board, player=0):\n",
    "    rows_cols = get_rows(bit_board) * get_cols(bit_board)\n",
    "    return get_sub_bits(bit_board, rows_cols, 14 + rows_cols * player)\n"
   ]
  },
  {
   "cell_type": "code",
   "execution_count": null,
   "id": "211aa111",
   "metadata": {},
   "outputs": [],
   "source": [
    "RULES = {\n",
    "    \"tic-tac-toe\": {\n",
    "        \"rows\": 3,\n",
    "        \"cols\": 3,\n",
    "        \"sequence\": 3,\n",
    "        \"gravity\": False,\n",
    "    },\n",
    "    \"connect-4\": {\n",
    "        \"rows\": 6,\n",
    "        \"cols\": 7,\n",
    "        \"sequence\": 4,\n",
    "        \"gravity\": True,\n",
    "    }\n",
    "}\n",
    "\n",
    "bit_board = new_bit_board(**RULES[\"tic-tac-toe\"])\n",
    "bin(bit_board)"
   ]
  },
  {
   "cell_type": "code",
   "execution_count": null,
   "id": "fc1e6979",
   "metadata": {},
   "outputs": [],
   "source": [
    "def row_bits(bit_board, row_i):\n",
    "    cols = get_cols(bit_board)\n",
    "    row_mask = ((1 << cols) - 1) << (row_i * cols)\n",
    "    return [row_mask & board for board in [get_board(bit_board, player) for player in [0, 1]]]\n",
    "\n",
    "# TODO: left-off here\n",
    "#def col_bits(rules, col_i):\n",
    "#    rows, cols = get_rows(rules), get_cols(rules)\n",
    "#    mask = 0\n",
    "#    for i in range(rows):\n",
    "#        mask |= 1 << (cols * i)\n",
    "#    return mask << col_i\n",
    "\n"
   ]
  },
  {
   "cell_type": "code",
   "execution_count": null,
   "id": "cbde1874",
   "metadata": {},
   "outputs": [],
   "source": [
    "def flip_bit_board(board, rules, direction=\"horizontal\"):\n",
    "    flipped_board = new_bit_board(rules)\n",
    "    if direction == \"horizontal\":\n",
    "        cols = get_cols(rules)\n",
    "        for i in range(cols):\n",
    "            mask = board & column_bit_mask(rules, i)\n",
    "            flipped_board |= (mask >> i) << (cols - 1 - i)\n",
    "    else:\n",
    "        rows, cols = get_rows(rules), get_cols(rules)\n",
    "        for i in range(rows):\n",
    "            mask = board & row_bit_mask(rules, i)\n",
    "            flipped_board |= (mask >> i * cols) << ((rows - 1 - i) * cols)\n",
    "    return flipped_board"
   ]
  },
  {
   "cell_type": "code",
   "execution_count": null,
   "id": "af6d5ce3",
   "metadata": {},
   "outputs": [],
   "source": [
    "def diagonal_bit_board(board, rules):\n",
    "    rows, cols = get_rows(rules), get_cols(rules)\n",
    "    # fix\n",
    "\n",
    "board = new_bit_board(new_bit_rules())\n",
    "board |= 1 | 8 | 64\n",
    "bin(diagonal_bit_board(board))"
   ]
  },
  {
   "cell_type": "code",
   "execution_count": null,
   "id": "61cd4a78",
   "metadata": {},
   "outputs": [],
   "source": [
    "def get_row_mask(row_index, num_cols=7):\n",
    "    return ((1 << num_cols) - 1) << (num_cols * row_index)\n",
    "\n",
    "def get_column_mask(col_index, num_cols=7):\n",
    "    mask = 0\n",
    "    for row in range(6):\n",
    "        mask |= 1 << (7 * row)\n",
    "    return mask << (col_index)\n",
    "\n",
    "def check_row(row, sequence):\n",
    "    mask = (1 << sequence) - 1\n",
    "    while row:\n",
    "        if row < mask: return False\n",
    "        if (row & mask) == mask: return True\n",
    "        row >>= 1\n",
    "    return False\n",
    "\n",
    "col0 = get_column_mask(0)\n",
    "col1 = get_column_mask(1)\n",
    "col2 = get_column_mask(2)\n",
    "col3 = get_column_mask(3)\n",
    "col4 = get_column_mask(4)\n",
    "col5 = get_column_mask(5)\n",
    "col6 = get_column_mask(6)\n",
    "\n",
    "row = get_row_mask(5)\n",
    "bin(row)"
   ]
  }
 ],
 "metadata": {
  "kernelspec": {
   "display_name": "Python 3",
   "language": "python",
   "name": "python3"
  },
  "language_info": {
   "codemirror_mode": {
    "name": "ipython",
    "version": 3
   },
   "file_extension": ".py",
   "mimetype": "text/x-python",
   "name": "python",
   "nbconvert_exporter": "python",
   "pygments_lexer": "ipython3",
   "version": "3.13.2"
  }
 },
 "nbformat": 4,
 "nbformat_minor": 5
}
