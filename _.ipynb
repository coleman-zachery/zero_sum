{
 "cells": [
  {
   "cell_type": "code",
   "execution_count": 36,
   "id": "cc026199",
   "metadata": {},
   "outputs": [],
   "source": [
    "def new_bit_rules(rows=6, cols=7, win_con=4, gravity=True):\n",
    "    rows_b = (rows & 15)\n",
    "    cols_b = (cols & 15) << 4\n",
    "    win_con_b = (win_con & 15) << 8\n",
    "    gravity_b = gravity << 12\n",
    "    return (1 << 13) | rows_b | cols_b | win_con_b | gravity_b\n",
    "\n",
    "def get_rows(rules): return rules & 15\n",
    "def get_cols(rules): return (rules & (15 << 4)) >> 4\n",
    "def get_win_con(rules): return (rules & (15 << 8)) >> 8\n",
    "def get_gravity(rules): return (rules & (1 << 12)) >> 12"
   ]
  },
  {
   "cell_type": "code",
   "execution_count": 80,
   "id": "dd537676",
   "metadata": {},
   "outputs": [],
   "source": [
    "def new_bit_board(rules):\n",
    "    rows, cols = get_rows(rules), get_cols(rules)\n",
    "    return 1 << (rows * cols)"
   ]
  },
  {
   "cell_type": "code",
   "execution_count": 81,
   "id": "fc1e6979",
   "metadata": {},
   "outputs": [],
   "source": [
    "def column_bit_mask(rules, col_i):\n",
    "    rows, cols = get_rows(rules), get_cols(rules)\n",
    "    mask = 0\n",
    "    for i in range(rows):\n",
    "        mask |= 1 << (cols * i)\n",
    "    return mask << col_i\n",
    "\n",
    "def row_bit_mask(rules, row_i):\n",
    "    cols = get_cols(rules)\n",
    "    mask = (1 << cols) - 1\n",
    "    return mask << (row_i * cols)"
   ]
  },
  {
   "cell_type": "code",
   "execution_count": 82,
   "id": "cbde1874",
   "metadata": {},
   "outputs": [],
   "source": [
    "def flip_bit_board(board, rules, direction=\"horizontal\"):\n",
    "    flipped_board = new_bit_board(rules)\n",
    "    if direction == \"horizontal\":\n",
    "        cols = get_cols(rules)\n",
    "        for i in range(cols):\n",
    "            mask = board & column_bit_mask(rules, i)\n",
    "            flipped_board |= (mask >> i) << (cols - 1 - i)\n",
    "    else:\n",
    "        rows, cols = get_rows(rules), get_cols(rules)\n",
    "        for i in range(rows):\n",
    "            mask = board & row_bit_mask(rules, i)\n",
    "            flipped_board |= (mask >> i * cols) << ((rows - 1 - i) * cols)\n",
    "    return flipped_board"
   ]
  },
  {
   "cell_type": "code",
   "execution_count": null,
   "id": "af6d5ce3",
   "metadata": {},
   "outputs": [
    {
     "data": {
      "text/plain": [
       "'0b1100100100000000000000000000000000000000000'"
      ]
     },
     "execution_count": 90,
     "metadata": {},
     "output_type": "execute_result"
    }
   ],
   "source": [
    "def diagonal_bit_board(board, rules):\n",
    "    rows, cols = get_rows(rules), get_cols(rules)\n",
    "    # fix\n",
    "\n",
    "board = new_bit_board(new_bit_rules())\n",
    "board |= 1 | 8 | 64\n",
    "bin(diagonal_bit_board(board))"
   ]
  },
  {
   "cell_type": "code",
   "execution_count": null,
   "id": "61cd4a78",
   "metadata": {},
   "outputs": [
    {
     "data": {
      "text/plain": [
       "'0b111111100000000000000000000000000000000000'"
      ]
     },
     "execution_count": 62,
     "metadata": {},
     "output_type": "execute_result"
    }
   ],
   "source": [
    "def get_row_mask(row_index, num_cols=7):\n",
    "    return ((1 << num_cols) - 1) << (num_cols * row_index)\n",
    "\n",
    "def get_column_mask(col_index, num_cols=7):\n",
    "    mask = 0\n",
    "    for row in range(6):\n",
    "        mask |= 1 << (7 * row)\n",
    "    return mask << (col_index)\n",
    "\n",
    "def check_row(row, sequence):\n",
    "    mask = (1 << sequence) - 1\n",
    "    while row:\n",
    "        if row < mask: return False\n",
    "        if (row & mask) == mask: return True\n",
    "        row >>= 1\n",
    "    return False\n",
    "\n",
    "col0 = get_column_mask(0)\n",
    "col1 = get_column_mask(1)\n",
    "col2 = get_column_mask(2)\n",
    "col3 = get_column_mask(3)\n",
    "col4 = get_column_mask(4)\n",
    "col5 = get_column_mask(5)\n",
    "col6 = get_column_mask(6)\n",
    "\n",
    "row = get_row_mask(5)\n",
    "bin(row)"
   ]
  }
 ],
 "metadata": {
  "kernelspec": {
   "display_name": "Python 3",
   "language": "python",
   "name": "python3"
  },
  "language_info": {
   "codemirror_mode": {
    "name": "ipython",
    "version": 3
   },
   "file_extension": ".py",
   "mimetype": "text/x-python",
   "name": "python",
   "nbconvert_exporter": "python",
   "pygments_lexer": "ipython3",
   "version": "3.13.2"
  }
 },
 "nbformat": 4,
 "nbformat_minor": 5
}
